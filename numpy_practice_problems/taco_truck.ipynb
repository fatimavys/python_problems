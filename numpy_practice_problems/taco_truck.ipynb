{
 "cells": [
  {
   "cell_type": "markdown",
   "id": "e775f571-1695-4314-938a-17eacfd0b160",
   "metadata": {},
   "source": [
    "# Taco Truck\n",
    "\n",
    "You own a taco truck that’s open 24/7 and manage five employees who run it. Employees work solo, eight-hour shifts. You decide the best way to set their schedule for the upcoming week is to create a bunch of random schedules and select one that looks best.\n",
    "\n",
    "You build a 1000x21 array of random employee ids where element (i,j) gives the employee id working shift j for schedule i."
   ]
  },
  {
   "cell_type": "code",
   "execution_count": 5,
   "id": "67e86533-dd95-41ba-87d2-0c46e6beeb6a",
   "metadata": {},
   "outputs": [
    {
     "name": "stdout",
     "output_type": "stream",
     "text": [
      "[[4 3 0 ... 2 0 0]\n",
      " [2 4 3 ... 3 3 2]\n",
      " [1 0 1 ... 1 2 1]\n",
      " ...\n",
      " [2 2 1 ... 3 1 4]\n",
      " [1 0 3 ... 2 3 2]\n",
      " [1 1 4 ... 2 4 2]]\n"
     ]
    }
   ],
   "source": [
    "import numpy as np\n",
    "\n",
    "generator = np.random.default_rng(999)\n",
    "schedules = generator.integers(low=0, high=5, size=(1000, 21))\n",
    "\n",
    "print(schedules)"
   ]
  },
  {
   "cell_type": "code",
   "execution_count": 8,
   "id": "f101bd30-5fad-4e8e-ba37-cfea51a9eaa4",
   "metadata": {},
   "outputs": [
    {
     "data": {
      "text/plain": [
       "array([ 25, 138, 188, 289, 375, 426, 533, 886, 975, 982], dtype=int64)"
      ]
     },
     "execution_count": 8,
     "metadata": {},
     "output_type": "execute_result"
    }
   ],
   "source": [
    "valid_mask = np.all((np.diff(schedules, axis=1) != 0),axis=1)\n",
    "valid_indices = np.where(valid_mask)[0] #np.where can be changed to np.nonzero\n",
    "valid_indices"
   ]
  },
  {
   "cell_type": "code",
   "execution_count": null,
   "id": "28a74bab-dde2-46a2-888c-a1717300a08c",
   "metadata": {},
   "outputs": [],
   "source": []
  }
 ],
 "metadata": {
  "kernelspec": {
   "display_name": "Python [conda env:base] *",
   "language": "python",
   "name": "conda-base-py"
  },
  "language_info": {
   "codemirror_mode": {
    "name": "ipython",
    "version": 3
   },
   "file_extension": ".py",
   "mimetype": "text/x-python",
   "name": "python",
   "nbconvert_exporter": "python",
   "pygments_lexer": "ipython3",
   "version": "3.12.7"
  }
 },
 "nbformat": 4,
 "nbformat_minor": 5
}
