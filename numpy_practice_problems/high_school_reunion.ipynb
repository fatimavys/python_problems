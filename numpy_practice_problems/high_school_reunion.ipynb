{
 "cells": [
  {
   "cell_type": "markdown",
   "id": "93322b05-0600-442a-ad85-4a702a2f3879",
   "metadata": {},
   "source": [
    "# High School Reunion"
   ]
  },
  {
   "cell_type": "markdown",
   "id": "74b0f084-bb75-463c-80f7-3f9f20a325e3",
   "metadata": {},
   "source": [
    "With your high school reunion fast approaching, you decide to get in shape and lose some weight . You record your weight every day for five weeks starting on a Monday."
   ]
  },
  {
   "cell_type": "markdown",
   "id": "4c3c3279-9525-4901-81d1-a2e21d048baf",
   "metadata": {},
   "source": [
    "Given these daily weights, build an array with your average weight per weekend."
   ]
  },
  {
   "cell_type": "code",
   "execution_count": 7,
   "id": "13252461-efaa-41f0-83b7-123b6be9491e",
   "metadata": {},
   "outputs": [
    {
     "data": {
      "text/plain": [
       "array([185. , 184.8, 184.6, 184.4, 184.2, 184. , 183.8, 183.6, 183.4,\n",
       "       183.2, 183. , 182.8, 182.6, 182.4, 182.2, 182. , 181.8, 181.6,\n",
       "       181.4, 181.2, 181. , 180.8, 180.6, 180.4, 180.2, 180. , 179.8,\n",
       "       179.6, 179.4, 179.2, 179. , 178.8, 178.6, 178.4, 178.2])"
      ]
     },
     "execution_count": 7,
     "metadata": {},
     "output_type": "execute_result"
    }
   ],
   "source": [
    "#Creating array with weights\n",
    "import numpy as np\n",
    "weights = 185 - np.arange(5*7)/5\n",
    "weights"
   ]
  },
  {
   "cell_type": "code",
   "execution_count": 11,
   "id": "6e0e6d71-f9bf-44e5-a59c-a5cf6c9efdd4",
   "metadata": {},
   "outputs": [
    {
     "data": {
      "text/plain": [
       "array([183.9, 182.5, 181.1, 179.7, 178.3])"
      ]
     },
     "execution_count": 11,
     "metadata": {},
     "output_type": "execute_result"
    }
   ],
   "source": [
    "#Calculating avarage for weekend\n",
    "avr = (arr[5:None:7]+arr[6:None:7])/2\n",
    "avr"
   ]
  },
  {
   "cell_type": "code",
   "execution_count": null,
   "id": "c8ad2dc5-1d29-4c35-8480-cd65f0526820",
   "metadata": {},
   "outputs": [],
   "source": []
  }
 ],
 "metadata": {
  "kernelspec": {
   "display_name": "Python [conda env:base] *",
   "language": "python",
   "name": "conda-base-py"
  },
  "language_info": {
   "codemirror_mode": {
    "name": "ipython",
    "version": 3
   },
   "file_extension": ".py",
   "mimetype": "text/x-python",
   "name": "python",
   "nbconvert_exporter": "python",
   "pygments_lexer": "ipython3",
   "version": "3.12.7"
  }
 },
 "nbformat": 4,
 "nbformat_minor": 5
}
