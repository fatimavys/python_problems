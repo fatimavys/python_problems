{
 "cells": [
  {
   "cell_type": "markdown",
   "id": "413420c9-7b75-4bd7-8ee7-dd89220c6708",
   "metadata": {},
   "source": [
    "# Pyscho Parent\n",
    "\n",
    "Eager to make your mark on the PTA, you decide the best way to hide eggs for the upcoming Easter egg hunt is to use NumPy . You represent the field as a 10x10 array of 0s."
   ]
  },
  {
   "cell_type": "code",
   "execution_count": 1,
   "id": "ead25071-59b8-4d7e-8048-32fd4faf7405",
   "metadata": {},
   "outputs": [
    {
     "name": "stdout",
     "output_type": "stream",
     "text": [
      "[[0. 0. 0. 0. 0. 0. 0. 0. 0. 0.]\n",
      " [0. 0. 0. 0. 0. 0. 0. 0. 0. 0.]\n",
      " [0. 0. 0. 0. 0. 0. 0. 0. 0. 0.]\n",
      " [0. 0. 0. 0. 0. 0. 0. 0. 0. 0.]\n",
      " [0. 0. 0. 0. 0. 0. 0. 0. 0. 0.]\n",
      " [0. 0. 0. 0. 0. 0. 0. 0. 0. 0.]\n",
      " [0. 0. 0. 0. 0. 0. 0. 0. 0. 0.]\n",
      " [0. 0. 0. 0. 0. 0. 0. 0. 0. 0.]\n",
      " [0. 0. 0. 0. 0. 0. 0. 0. 0. 0.]\n",
      " [0. 0. 0. 0. 0. 0. 0. 0. 0. 0.]]\n"
     ]
    }
   ],
   "source": [
    "import numpy as np\n",
    "\n",
    "field = np.zeros(shape = (10, 10))\n",
    "\n",
    "print(field)"
   ]
  },
  {
   "cell_type": "code",
   "execution_count": 3,
   "id": "5d6230e1-1eec-4613-9828-5d186e5bf4eb",
   "metadata": {},
   "outputs": [
    {
     "data": {
      "text/plain": [
       "array([[ 0.52,  0.  ,  0.  , -1.48,  0.  ,  2.91,  0.  ,  0.  ,  0.  ,  0.  ],\n",
       "       [ 0.  , -1.27,  0.  ,  0.  ,  0.  , -1.6 ,  0.  ,  1.73,  0.  ,  0.  ],\n",
       "       [ 0.  ,  0.  ,  0.  ,  0.  ,  0.43,  0.  ,  0.  ,  0.  ,  0.  ,  0.  ],\n",
       "       [ 0.  ,  0.  ,  0.  ,  0.  ,  0.  ,  0.34,  0.  ,  0.  ,  0.  , -1.67],\n",
       "       [ 0.  ,  0.86,  0.74,  0.  ,  0.  ,  0.  ,  1.32,  0.  ,  0.52,  0.  ],\n",
       "       [ 0.  , -1.  ,  0.  ,  0.  ,  0.  ,  0.15,  0.  ,  0.  ,  0.  ,  0.  ],\n",
       "       [ 0.  , -0.51,  0.  , -0.86,  0.  ,  0.  ,  0.  ,  0.  ,  0.  ,  0.  ],\n",
       "       [ 0.  ,  0.  ,  0.  ,  0.  ,  0.  ,  0.  ,  0.  ,  0.  ,  0.  ,  0.  ],\n",
       "       [ 0.  ,  0.  ,  0.  ,  0.  , -2.16,  0.  ,  0.95,  0.  ,  0.  ,  0.  ],\n",
       "       [ 0.  ,  0.  ,  0.  ,  0.  ,  0.  ,  0.  ,  0.  ,  0.  ,  0.  ,  0.06]])"
      ]
     },
     "execution_count": 3,
     "metadata": {},
     "output_type": "execute_result"
    }
   ],
   "source": [
    "#Solution\n",
    "np.set_printoptions(linewidth=999)\n",
    "generator = np.random.default_rng(seed=1234)\n",
    "nums = np.round(generator.normal(loc=0.0,scale=1.0,size=20),2)\n",
    "locs = generator.choice(field.size,20,replace=False)\n",
    "field.ravel()[locs]=nums\n",
    "field"
   ]
  }
 ],
 "metadata": {
  "kernelspec": {
   "display_name": "Python [conda env:base] *",
   "language": "python",
   "name": "conda-base-py"
  },
  "language_info": {
   "codemirror_mode": {
    "name": "ipython",
    "version": 3
   },
   "file_extension": ".py",
   "mimetype": "text/x-python",
   "name": "python",
   "nbconvert_exporter": "python",
   "pygments_lexer": "ipython3",
   "version": "3.12.7"
  }
 },
 "nbformat": 4,
 "nbformat_minor": 5
}
