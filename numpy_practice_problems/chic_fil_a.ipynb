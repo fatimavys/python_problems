{
 "cells": [
  {
   "cell_type": "markdown",
   "id": "dc46d261-810e-4c6c-96df-6cf58f2fabfd",
   "metadata": {},
   "source": [
    "# Chic-fil-A\n",
    "\n",
    "You decide to invest in a series of billboards along interstate 10 to advertise your stylish new chicken restaurant, Chic-fil-A 🐔.\n",
    "\n",
    "1. You buy three billboards evenly spaced starting from mile marker 17 and ending on mile marker 28.\n",
    "2. You buy another three billboards starting on mile marker 32 and ending on mile marker 36.\n",
    "3. In order, from mile marker 17 to 36, your billboards display these ads: A, B, C, C, B, A.\n",
    "\n",
    "Determine how far each B ad is from your restaurant which is located at mile marker 30.\n",
    "\n",
    "```\n",
    "# ads / restaurant*:   A     B     C   *   C  B  A\n",
    "# billboards:        --|-----|-----|---|---|--|--|--\n",
    "# mile markers:       17          28  30  32    36\n",
    "```"
   ]
  },
  {
   "cell_type": "code",
   "execution_count": null,
   "id": "228bcdd5-55d6-493b-9cb3-f055575e2e1c",
   "metadata": {},
   "outputs": [],
   "source": [
    "#Solution\n",
    "import numpy as np\n",
    "\n",
    "dist_from_rest = abs(np.linspace(start=[17,32], stop=[28,36],num=3)-30)\n",
    "dist_of_b_locs_from_rest= dist_from_rest[1]\n",
    "dist_of_b_from_rest"
   ]
  }
 ],
 "metadata": {
  "kernelspec": {
   "display_name": "Python [conda env:base] *",
   "language": "python",
   "name": "conda-base-py"
  },
  "language_info": {
   "codemirror_mode": {
    "name": "ipython",
    "version": 3
   },
   "file_extension": ".py",
   "mimetype": "text/x-python",
   "name": "python",
   "nbconvert_exporter": "python",
   "pygments_lexer": "ipython3",
   "version": "3.12.7"
  }
 },
 "nbformat": 4,
 "nbformat_minor": 5
}
