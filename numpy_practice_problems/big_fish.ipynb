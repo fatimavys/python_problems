{
 "cells": [
  {
   "cell_type": "markdown",
   "id": "11ab664c-7646-42fc-bed9-5f1b3ed94906",
   "metadata": {},
   "source": [
    "# Big Fish\n",
    "\n",
    "10 fish occupy a 5x5x5 grid of water 🐟. Each fish decides to move to a new (i,j,k) location given by the 2-d array below. If multiple fish end up occupying the same cell, the biggest fish eats the smaller fish. Determine which fish survive."
   ]
  },
  {
   "cell_type": "code",
   "execution_count": 3,
   "id": "bd7f2b85-888d-4fb9-81dc-8085759a92a4",
   "metadata": {},
   "outputs": [
    {
     "name": "stdout",
     "output_type": "stream",
     "text": [
      "[-1.69870017  0.53799701 -0.22561399 -1.09020894  0.55391264 -1.50115445\n",
      "  0.44545933  1.3448172  -1.12364327  0.21216015]\n"
     ]
    }
   ],
   "source": [
    "import numpy as np\n",
    "\n",
    "locs = np.array([\n",
    "    [0,0,0],\n",
    "    [1,1,2],\n",
    "    [0,0,0],\n",
    "    [2,1,3],\n",
    "    [5,5,4],\n",
    "    [5,0,0],\n",
    "    [5,0,0],\n",
    "    [0,0,0],\n",
    "    [2,1,3],\n",
    "    [1,3,1]\n",
    "])\n",
    "\n",
    "generator = np.random.default_rng(1010)\n",
    "weights = generator.normal(size=10)\n",
    "\n",
    "print(weights)"
   ]
  },
  {
   "cell_type": "code",
   "execution_count": 2,
   "id": "95ee5e33-5a04-4e08-8a35-1b7a08f6a6f9",
   "metadata": {},
   "outputs": [
    {
     "data": {
      "text/plain": [
       "array([2, 4, 5, 3, 1, 0], dtype=int64)"
      ]
     },
     "execution_count": 2,
     "metadata": {},
     "output_type": "execute_result"
    }
   ],
   "source": [
    "weights = np.sort(weights)[::-1]\n",
    "uniques,first_appearance = np.unique(locs,axis=0,return_index=True)\n",
    "survivors = np.argsort(weights[first_appearance])\n",
    "survivors"
   ]
  }
 ],
 "metadata": {
  "kernelspec": {
   "display_name": "Python [conda env:base] *",
   "language": "python",
   "name": "conda-base-py"
  },
  "language_info": {
   "codemirror_mode": {
    "name": "ipython",
    "version": 3
   },
   "file_extension": ".py",
   "mimetype": "text/x-python",
   "name": "python",
   "nbconvert_exporter": "python",
   "pygments_lexer": "ipython3",
   "version": "3.12.7"
  }
 },
 "nbformat": 4,
 "nbformat_minor": 5
}
