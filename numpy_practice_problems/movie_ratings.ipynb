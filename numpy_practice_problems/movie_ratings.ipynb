{
 "cells": [
  {
   "cell_type": "markdown",
   "id": "3b50b895-13d6-4186-8b00-c986dada4e35",
   "metadata": {},
   "source": [
    "# Movie Ratings\n",
    "\n",
    "You’re given a 10x2 array of floats where each row represents a movie. The first column represents the movie’s rating and the second column represents the director’s rating.\n",
    "\n",
    "Create a third column that represents the overall rating. The overall rating is equal to the movie rating if it exists, otherwise the director’s rating."
   ]
  },
  {
   "cell_type": "code",
   "execution_count": 1,
   "id": "34d4b0df-e8b4-41da-8dcb-1079315ba494",
   "metadata": {},
   "outputs": [
    {
     "name": "stdout",
     "output_type": "stream",
     "text": [
      "[[ 7.  1.]\n",
      " [nan  2.]\n",
      " [nan  8.]\n",
      " [ 9.  3.]\n",
      " [ 8.  9.]\n",
      " [ 5.  2.]\n",
      " [ 8.  2.]\n",
      " [nan  6.]\n",
      " [ 9.  2.]\n",
      " [nan  5.]]\n"
     ]
    }
   ],
   "source": [
    "import numpy as np\n",
    "\n",
    "generator = np.random.default_rng(123)\n",
    "ratings = np.round(generator.uniform(low=0.0, high=10.0, size=(10, 2)))\n",
    "ratings[[1,2,7,9], [0,0,0,0]] = np.nan\n",
    "\n",
    "print(ratings)"
   ]
  },
  {
   "cell_type": "code",
   "execution_count": 3,
   "id": "1a43d572-6c4b-40a6-8499-c59ba433e677",
   "metadata": {},
   "outputs": [
    {
     "data": {
      "text/plain": [
       "array([[ 7.,  7.,  1.],\n",
       "       [ 2., nan,  2.],\n",
       "       [ 8., nan,  8.],\n",
       "       [ 9.,  9.,  3.],\n",
       "       [ 8.,  8.,  9.],\n",
       "       [ 5.,  5.,  2.],\n",
       "       [ 8.,  8.,  2.],\n",
       "       [ 6., nan,  6.],\n",
       "       [ 9.,  9.,  2.],\n",
       "       [ 5., nan,  5.]])"
      ]
     },
     "execution_count": 3,
     "metadata": {},
     "output_type": "execute_result"
    }
   ],
   "source": [
    "#Solution\n",
    "baz = np.array(np.where(np.any(np.isnan(ratings),axis=1),ratings[:,1],ratings[:,0]))\n",
    "baz = baz[:, np.newaxis]\n",
    "np.hstack((baz,ratings)) #we can use this or the line below\n",
    "#np.concatenate((ratings,baz),axis=1)"
   ]
  }
 ],
 "metadata": {
  "kernelspec": {
   "display_name": "Python [conda env:base] *",
   "language": "python",
   "name": "conda-base-py"
  },
  "language_info": {
   "codemirror_mode": {
    "name": "ipython",
    "version": 3
   },
   "file_extension": ".py",
   "mimetype": "text/x-python",
   "name": "python",
   "nbconvert_exporter": "python",
   "pygments_lexer": "ipython3",
   "version": "3.12.7"
  }
 },
 "nbformat": 4,
 "nbformat_minor": 5
}
