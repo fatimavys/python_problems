{
 "cells": [
  {
   "cell_type": "markdown",
   "id": "a4a227ae-d725-47a8-94dc-432a368ba1be",
   "metadata": {},
   "source": [
    "# Professor Prick\n",
    "\n",
    "You’re a vindictive professor 👨‍🏫 and one of your pet peeves is when students rush through their exams. To teach them a lesson, you decide to give zeros to the first three students who score less than sixty, in the order they turned in their exams.\n",
    "\n",
    "Given a 1-d array of integers, identify the first three values less than sixty and replace them with zero."
   ]
  },
  {
   "cell_type": "code",
   "execution_count": 1,
   "id": "020eb2da-966a-491f-bfcc-2ce99a7c7b0a",
   "metadata": {},
   "outputs": [
    {
     "name": "stdout",
     "output_type": "stream",
     "text": [
      "[68. 36. 76. 57. 56. 54. 63. 64. 36. 88. 80. 82. 84. 76. 42.]\n"
     ]
    }
   ],
   "source": [
    "import numpy as np\n",
    "\n",
    "generator = np.random.default_rng(80085)\n",
    "scores = np.round(generator.uniform(low=30, high=100, size=15))\n",
    "\n",
    "print(scores)"
   ]
  },
  {
   "cell_type": "code",
   "execution_count": 2,
   "id": "9ab3da86-e24e-4438-a62f-83a1f70ae7a3",
   "metadata": {},
   "outputs": [
    {
     "name": "stdout",
     "output_type": "stream",
     "text": [
      "[68.  0. 76.  0.  0. 54. 63. 64. 36. 88. 80. 82. 84. 76. 42.]\n"
     ]
    }
   ],
   "source": [
    "# solution 1\n",
    "scores[(scores<60).nonzero()[0][:3]] = 0\n",
    "\n",
    "# solution 2\n",
    "# scores[np.where(scores<60)[0][:3]] = 0\n",
    "print(scores)"
   ]
  },
  {
   "cell_type": "code",
   "execution_count": null,
   "id": "5e513ac8-9f71-41b1-aad8-505041e434bc",
   "metadata": {},
   "outputs": [],
   "source": []
  }
 ],
 "metadata": {
  "kernelspec": {
   "display_name": "Python [conda env:base] *",
   "language": "python",
   "name": "conda-base-py"
  },
  "language_info": {
   "codemirror_mode": {
    "name": "ipython",
    "version": 3
   },
   "file_extension": ".py",
   "mimetype": "text/x-python",
   "name": "python",
   "nbconvert_exporter": "python",
   "pygments_lexer": "ipython3",
   "version": "3.12.7"
  }
 },
 "nbformat": 4,
 "nbformat_minor": 5
}
