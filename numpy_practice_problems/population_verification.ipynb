{
 "cells": [
  {
   "cell_type": "markdown",
   "id": "1103c133-f5d3-4aaf-a882-039d987e281b",
   "metadata": {},
   "source": [
    "# Population Verification\n",
    "\n",
    "You manage a local department for the Census responsible for measuring the population of each block in your city . Even though you could do it yourself, for each of the last five years, you’ve tasked this job to your subordinate, Jim.\n",
    "\n",
    "Each year, Jim gives you a 2x4 array of his population estimates where each element of the array represents a city block. After five years, you have a 5x2x4 array of population estimates called `jim` where (i,j,k) represents Jim’s population estimate for block (j,k) of year i.\n",
    "\n",
    "You don’t fully trust Jim’s estimates because you see him spending an ungodly amount of time on Facebook. So, each year, you go behind his back and measure the population of two city blocks. After five years, you have the following data:\n",
    "\n",
    "blocks, a 5x2x2 array indicating which blocks you measured each year where (i,j) gives the coordinates for the jth block you measured in year i\n",
    "pops, a corresponding 5x2 array where (i,j) gives the population you measured for the jth block in year i\n",
    "\n",
    "How many times was Jim’s estimate at least 10% higher or lower than your estimate? "
   ]
  },
  {
   "cell_type": "code",
   "execution_count": 1,
   "id": "0516d4de-7a35-439b-9682-4f0f5ea1f3ac",
   "metadata": {},
   "outputs": [
    {
     "name": "stdout",
     "output_type": "stream",
     "text": [
      "[[[106. 103.  92. 100.]\n",
      "  [ 94. 102.  94. 100.]]\n",
      "\n",
      " [[104.  96. 109.  96.]\n",
      "  [101. 104. 102.  92.]]\n",
      "\n",
      " [[102. 102. 108. 101.]\n",
      "  [ 91. 101. 106.  99.]]\n",
      "\n",
      " [[101.  98.  95. 102.]\n",
      "  [100. 101.  99.  93.]]\n",
      "\n",
      " [[107. 101. 104. 105.]\n",
      "  [102.  97. 101. 102.]]]\n"
     ]
    }
   ],
   "source": [
    "import numpy as np\n",
    "\n",
    "generator = np.random.default_rng(2357)\n",
    "jim = np.round(generator.normal(loc=100, scale=5, size=(5,2,4)))\n",
    "\n",
    "print(jim)\n",
    "\n",
    "blocks = np.array([\n",
    "    [[0,2],[1,3]],\n",
    "    [[1,2],[0,0]],\n",
    "    [[0,0],[1,2]],\n",
    "    [[1,1],[0,3]],\n",
    "    [[0,1],[1,0]]\n",
    "])\n",
    "\n",
    "pops = np.array([\n",
    "    [100, 105],\n",
    "    [110, 92],\n",
    "    [95, 99],\n",
    "    [89, 107],\n",
    "    [101, 98]\n",
    "])"
   ]
  },
  {
   "cell_type": "code",
   "execution_count": 2,
   "id": "79fe628a-bf44-4d01-9de7-fd186235951b",
   "metadata": {},
   "outputs": [
    {
     "data": {
      "text/plain": [
       "array([[ 92., 100.],\n",
       "       [102., 104.],\n",
       "       [102., 106.],\n",
       "       [101., 102.],\n",
       "       [101., 102.]])"
      ]
     },
     "execution_count": 2,
     "metadata": {},
     "output_type": "execute_result"
    }
   ],
   "source": [
    "jims_vals = jim[np.arange(5)[:,None],blocks[:,:,0],blocks[:,:,1]]\n",
    "jims_vals"
   ]
  },
  {
   "cell_type": "code",
   "execution_count": 3,
   "id": "f00802ea-6831-4621-ab2f-6034ca1374bf",
   "metadata": {},
   "outputs": [
    {
     "data": {
      "text/plain": [
       "2"
      ]
     },
     "execution_count": 3,
     "metadata": {},
     "output_type": "execute_result"
    }
   ],
   "source": [
    "np.sum(np.abs(pops-jims_vals)/pops >= 0.10)"
   ]
  },
  {
   "cell_type": "code",
   "execution_count": null,
   "id": "8c2032af-f829-4074-be02-e245a6774e16",
   "metadata": {},
   "outputs": [],
   "source": []
  }
 ],
 "metadata": {
  "kernelspec": {
   "display_name": "Python [conda env:base] *",
   "language": "python",
   "name": "conda-base-py"
  },
  "language_info": {
   "codemirror_mode": {
    "name": "ipython",
    "version": 3
   },
   "file_extension": ".py",
   "mimetype": "text/x-python",
   "name": "python",
   "nbconvert_exporter": "python",
   "pygments_lexer": "ipython3",
   "version": "3.12.7"
  }
 },
 "nbformat": 4,
 "nbformat_minor": 5
}
