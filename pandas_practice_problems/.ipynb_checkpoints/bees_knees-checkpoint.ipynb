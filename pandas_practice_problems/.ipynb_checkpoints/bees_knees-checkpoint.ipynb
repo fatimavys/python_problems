{
 "cells": [
  {
   "cell_type": "markdown",
   "id": "24c88569-281b-414d-a967-4e6c1221dcc7",
   "metadata": {},
   "source": [
    "# Bees Knees\n",
    "\n",
    "Given, two Series `bees` and `knees`, if the ith value of `bees` is NaN, double the ith value inside `knees`."
   ]
  },
  {
   "cell_type": "code",
   "execution_count": 1,
   "id": "eff45a62-dd2a-4ec7-827a-5aae42dd09ba",
   "metadata": {},
   "outputs": [
    {
     "name": "stdout",
     "output_type": "stream",
     "text": [
      "0     True\n",
      "1     True\n",
      "2    False\n",
      "3      NaN\n",
      "4     True\n",
      "5    False\n",
      "6     True\n",
      "7      NaN\n",
      "dtype: object\n",
      "7     5\n",
      "0     2\n",
      "2     9\n",
      "6     1\n",
      "3     3\n",
      "5    10\n",
      "1     5\n",
      "4     2\n",
      "dtype: int64\n"
     ]
    }
   ],
   "source": [
    "import numpy as np\n",
    "import pandas as pd\n",
    "\n",
    "bees = pd.Series([True, True, False, np.nan, True, False, True, np.nan])\n",
    "knees = pd.Series([5,2,9,1,3,10,5,2], index = [7,0,2,6,3,5,1,4])\n",
    "\n",
    "print(bees)\n",
    "print(knees)"
   ]
  },
  {
   "cell_type": "code",
   "execution_count": 2,
   "id": "e5683806-1434-4848-b061-b59549e89db2",
   "metadata": {},
   "outputs": [
    {
     "data": {
      "text/plain": [
       "0    False\n",
       "1    False\n",
       "2    False\n",
       "3     True\n",
       "4    False\n",
       "5    False\n",
       "6    False\n",
       "7     True\n",
       "dtype: bool"
      ]
     },
     "execution_count": 2,
     "metadata": {},
     "output_type": "execute_result"
    }
   ],
   "source": [
    "pd.isna(bees)"
   ]
  },
  {
   "cell_type": "code",
   "execution_count": 3,
   "id": "0c71f22f-6c21-4cb6-b396-124586c512af",
   "metadata": {},
   "outputs": [],
   "source": [
    "knees.loc[pd.isna(bees).to_numpy()]*=2"
   ]
  },
  {
   "cell_type": "code",
   "execution_count": 4,
   "id": "5a9f8fd6-764b-49ed-b036-2ded9018c337",
   "metadata": {},
   "outputs": [
    {
     "data": {
      "text/plain": [
       "7     5\n",
       "0     2\n",
       "2     9\n",
       "6     2\n",
       "3     3\n",
       "5    10\n",
       "1     5\n",
       "4     4\n",
       "dtype: int64"
      ]
     },
     "execution_count": 4,
     "metadata": {},
     "output_type": "execute_result"
    }
   ],
   "source": [
    "knees"
   ]
  }
 ],
 "metadata": {
  "kernelspec": {
   "display_name": "Python [conda env:base] *",
   "language": "python",
   "name": "conda-base-py"
  },
  "language_info": {
   "codemirror_mode": {
    "name": "ipython",
    "version": 3
   },
   "file_extension": ".py",
   "mimetype": "text/x-python",
   "name": "python",
   "nbconvert_exporter": "python",
   "pygments_lexer": "ipython3",
   "version": "3.12.7"
  }
 },
 "nbformat": 4,
 "nbformat_minor": 5
}
