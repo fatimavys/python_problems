{
 "cells": [
  {
   "cell_type": "markdown",
   "id": "3ee8889a-33cd-4526-b9d1-db38fc74d57f",
   "metadata": {},
   "source": [
    "# Baby Names\n",
    "\n",
    "You and your spouse decided to let the internet name your next child. You’ve asked the great people of the web to submit their favorite names, and you’ve compiled their submissions into a Series called `babynames`.\n",
    "\n",
    "Determine how many people voted for the names ‘Chad’, ‘Ruger’, and ‘Zeltron’."
   ]
  },
  {
   "cell_type": "code",
   "execution_count": 1,
   "id": "0c98eb8e-1434-4f7c-9b1b-0175aac12daf",
   "metadata": {},
   "outputs": [],
   "source": [
    "import numpy as np\n",
    "import pandas as pd\n",
    "\n",
    "babynames = pd.Series([\n",
    "    'Jathonathon', 'Zeltron', 'Ruger', 'Phreddy', 'Ruger', 'Chad', 'Chad',\n",
    "    'Ruger', 'Ryan', 'Ruger', 'Chad', 'Ryan', 'Phreddy', 'Phreddy', 'Phreddy',\n",
    "    'Mister', 'Zeltron', 'Ryan', 'Ruger', 'Ruger', 'Jathonathon',\n",
    "    'Jathonathon', 'Ruger', 'Chad', 'Zeltron'], dtype='string')"
   ]
  },
  {
   "cell_type": "code",
   "execution_count": 3,
   "id": "82527f17-00af-4620-9400-3f63a31d0d48",
   "metadata": {},
   "outputs": [
    {
     "data": {
      "text/plain": [
       "Chad       4\n",
       "Ruger      7\n",
       "Zeltron    3\n",
       "Name: count, dtype: Int64"
      ]
     },
     "execution_count": 3,
     "metadata": {},
     "output_type": "execute_result"
    }
   ],
   "source": [
    "#Solution\n",
    "babynames.value_counts().loc[['Chad','Ruger','Zeltron']]"
   ]
  }
 ],
 "metadata": {
  "kernelspec": {
   "display_name": "Python [conda env:base] *",
   "language": "python",
   "name": "conda-base-py"
  },
  "language_info": {
   "codemirror_mode": {
    "name": "ipython",
    "version": 3
   },
   "file_extension": ".py",
   "mimetype": "text/x-python",
   "name": "python",
   "nbconvert_exporter": "python",
   "pygments_lexer": "ipython3",
   "version": "3.12.7"
  }
 },
 "nbformat": 4,
 "nbformat_minor": 5
}
