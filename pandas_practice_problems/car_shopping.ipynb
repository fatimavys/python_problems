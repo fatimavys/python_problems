{
 "cells": [
  {
   "cell_type": "markdown",
   "id": "112d5549-e069-4664-b15a-53e578d4b1d1",
   "metadata": {},
   "source": [
    "# Car Shopping\n",
    "\n",
    "After accidentally leaving an ice chest of fish and shrimp in your car for a week while you were on vacation, you’re now in the market for a new vehicle 🚗. Your insurance didn’t cover the loss, so you want to make sure you get a good deal on your new car.\n",
    "\n",
    "Given a Series of car `asking_prices` and another Series of car `fair_prices`, determine which cars for sale are a good deal. In other words, identify cars whose asking price is less than their fair price."
   ]
  },
  {
   "cell_type": "code",
   "execution_count": 6,
   "id": "e38edf6c-657b-4fcb-af48-b2eec4dd62ef",
   "metadata": {},
   "outputs": [
    {
     "name": "stdout",
     "output_type": "stream",
     "text": [
      "civic      5000\n",
      "civic      7600\n",
      "camry      9000\n",
      "mustang    8500\n",
      "mustang    7000\n",
      "dtype: int64\n",
      "civic      5500\n",
      "mustang    7500\n",
      "camry      7500\n",
      "dtype: int64\n"
     ]
    }
   ],
   "source": [
    "import numpy as np\n",
    "import pandas as pd\n",
    "\n",
    "asking_prices = pd.Series([5000, 7600, 9000, 8500, 7000], index=['civic', 'civic', 'camry', 'mustang', 'mustang'])\n",
    "fair_prices = pd.Series([5500, 7500, 7500], index=['civic', 'mustang', 'camry'])\n",
    "\n",
    "print(asking_prices)\n",
    "print(fair_prices)"
   ]
  },
  {
   "cell_type": "code",
   "execution_count": 7,
   "id": "eead7f99-2806-4da5-a3c4-48d2eb4ab2ab",
   "metadata": {},
   "outputs": [],
   "source": [
    "all_fair_prices = fair_prices.loc[asking_prices.index]"
   ]
  },
  {
   "cell_type": "code",
   "execution_count": 10,
   "id": "f226e1ba-65ae-4fff-a031-bde78fd5a7e5",
   "metadata": {},
   "outputs": [],
   "source": [
    "arr = asking_prices<all_fair_prices\n",
    "arr.reset_index(drop = True, inplace=True)"
   ]
  },
  {
   "cell_type": "code",
   "execution_count": 11,
   "id": "44d5805e-2ab9-427e-b52c-f231d6a8ad2b",
   "metadata": {},
   "outputs": [
    {
     "data": {
      "text/plain": [
       "[0, 4]"
      ]
     },
     "execution_count": 11,
     "metadata": {},
     "output_type": "execute_result"
    }
   ],
   "source": [
    "arr.loc[arr].index.to_list()"
   ]
  }
 ],
 "metadata": {
  "kernelspec": {
   "display_name": "Python [conda env:base] *",
   "language": "python",
   "name": "conda-base-py"
  },
  "language_info": {
   "codemirror_mode": {
    "name": "ipython",
    "version": 3
   },
   "file_extension": ".py",
   "mimetype": "text/x-python",
   "name": "python",
   "nbconvert_exporter": "python",
   "pygments_lexer": "ipython3",
   "version": "3.12.7"
  }
 },
 "nbformat": 4,
 "nbformat_minor": 5
}
